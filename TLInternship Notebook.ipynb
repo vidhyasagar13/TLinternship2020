{
 "cells": [
  {
   "cell_type": "markdown",
   "metadata": {},
   "source": [
    "<h1> Install required libraries </h1>"
   ]
  },
  {
   "cell_type": "code",
   "execution_count": 1,
   "metadata": {},
   "outputs": [
    {
     "name": "stdout",
     "output_type": "stream",
     "text": [
      "Requirement already satisfied: langdetect in /Users/vidhyasagarudayakumar/opt/anaconda3/lib/python3.7/site-packages (1.0.8)\n",
      "Requirement already satisfied: six in /Users/vidhyasagarudayakumar/opt/anaconda3/lib/python3.7/site-packages (from langdetect) (1.14.0)\n",
      "Requirement already satisfied: beautifulsoup4 in /Users/vidhyasagarudayakumar/opt/anaconda3/lib/python3.7/site-packages (4.8.2)\n",
      "Requirement already satisfied: soupsieve>=1.2 in /Users/vidhyasagarudayakumar/opt/anaconda3/lib/python3.7/site-packages (from beautifulsoup4) (1.9.5)\n",
      "Requirement already satisfied: nltk in /Users/vidhyasagarudayakumar/opt/anaconda3/lib/python3.7/site-packages (3.4.5)\n",
      "Requirement already satisfied: six in /Users/vidhyasagarudayakumar/opt/anaconda3/lib/python3.7/site-packages (from nltk) (1.14.0)\n",
      "Requirement already satisfied: gensim in /Users/vidhyasagarudayakumar/opt/anaconda3/lib/python3.7/site-packages (3.8.3)\n",
      "Requirement already satisfied: scipy>=0.18.1 in /Users/vidhyasagarudayakumar/opt/anaconda3/lib/python3.7/site-packages (from gensim) (1.4.1)\n",
      "Requirement already satisfied: numpy>=1.11.3 in /Users/vidhyasagarudayakumar/opt/anaconda3/lib/python3.7/site-packages (from gensim) (1.18.1)\n",
      "Requirement already satisfied: smart-open>=1.8.1 in /Users/vidhyasagarudayakumar/opt/anaconda3/lib/python3.7/site-packages (from gensim) (3.0.0)\n",
      "Requirement already satisfied: six>=1.5.0 in /Users/vidhyasagarudayakumar/opt/anaconda3/lib/python3.7/site-packages (from gensim) (1.14.0)\n",
      "Requirement already satisfied: requests in /Users/vidhyasagarudayakumar/opt/anaconda3/lib/python3.7/site-packages (from smart-open>=1.8.1->gensim) (2.22.0)\n",
      "Requirement already satisfied: certifi>=2017.4.17 in /Users/vidhyasagarudayakumar/opt/anaconda3/lib/python3.7/site-packages (from requests->smart-open>=1.8.1->gensim) (2019.11.28)\n",
      "Requirement already satisfied: urllib3!=1.25.0,!=1.25.1,<1.26,>=1.21.1 in /Users/vidhyasagarudayakumar/opt/anaconda3/lib/python3.7/site-packages (from requests->smart-open>=1.8.1->gensim) (1.25.8)\n",
      "Requirement already satisfied: chardet<3.1.0,>=3.0.2 in /Users/vidhyasagarudayakumar/opt/anaconda3/lib/python3.7/site-packages (from requests->smart-open>=1.8.1->gensim) (3.0.4)\n",
      "Requirement already satisfied: idna<2.9,>=2.5 in /Users/vidhyasagarudayakumar/opt/anaconda3/lib/python3.7/site-packages (from requests->smart-open>=1.8.1->gensim) (2.8)\n"
     ]
    }
   ],
   "source": [
    "import sys\n",
    "!{sys.executable} -m pip install langdetect\n",
    "!{sys.executable} -m pip install beautifulsoup4\n",
    "!{sys.executable} -m pip install nltk\n",
    "!{sys.executable} -m pip install gensim"
   ]
  },
  {
   "cell_type": "code",
   "execution_count": null,
   "metadata": {},
   "outputs": [],
   "source": []
  },
  {
   "cell_type": "markdown",
   "metadata": {},
   "source": [
    "<h1> Import required libraries </h1>"
   ]
  },
  {
   "cell_type": "code",
   "execution_count": 2,
   "metadata": {},
   "outputs": [],
   "source": [
    "from warcio.archiveiterator import ArchiveIterator\n",
    "from warcio.capture_http import capture_http\n",
    "from bs4 import BeautifulSoup\n",
    "from langdetect import detect\n",
    "from nltk.tokenize import word_tokenize,sent_tokenize\n",
    "import gensim\n",
    "import re\n",
    "import requests\n",
    "import sys\n",
    "import numpy as np"
   ]
  },
  {
   "cell_type": "code",
   "execution_count": 3,
   "metadata": {},
   "outputs": [
    {
     "name": "stderr",
     "output_type": "stream",
     "text": [
      "[nltk_data] Downloading package punkt to\n",
      "[nltk_data]     /Users/vidhyasagarudayakumar/nltk_data...\n",
      "[nltk_data]   Package punkt is already up-to-date!\n"
     ]
    },
    {
     "data": {
      "text/plain": [
       "True"
      ]
     },
     "execution_count": 3,
     "metadata": {},
     "output_type": "execute_result"
    }
   ],
   "source": [
    "import nltk\n",
    "nltk.download('punkt')"
   ]
  },
  {
   "cell_type": "code",
   "execution_count": 4,
   "metadata": {},
   "outputs": [],
   "source": [
    "def prepare_source_data():\n",
    "    content = ''\n",
    "    source_url_list = ['https://www.brookings.edu/research/ten-facts-about-covid-19-and-the-u-s-economy/#:~:text=The%20COVID%2D19%20crisis%20also,(U.S.%20Census%20Bureau%202020a).',\n",
    "                      'https://www.mckinsey.com/business-functions/risk/our-insights/covid-19-implications-for-business#',\n",
    "                      'https://www.richmondfed.org/publications/research/econ_focus/2020/q2-3/feature1']\n",
    "    for url in source_url_list:\n",
    "        content += get_text_from_html(requests.get(url).text)\n",
    "    \n",
    "    file_docs = []\n",
    "    tokens = sent_tokenize(content)\n",
    "    for line in tokens:\n",
    "        file_docs.append(line)\n",
    "    \n",
    "    gen_docs = [[w.lower() for w in word_tokenize(text)] \n",
    "            for text in file_docs]\n",
    "    dictionary = gensim.corpora.Dictionary(gen_docs)\n",
    "    corpus = [dictionary.doc2bow(gen_doc) for gen_doc in gen_docs]\n",
    "    tf_idf = gensim.models.TfidfModel(corpus)\n",
    "    sims = gensim.similarities.Similarity('workdir/',tf_idf[corpus],\n",
    "                                        num_features=len(dictionary))\n",
    "    \n",
    "    return tf_idf, sims, dictionary, file_docs\n",
    "    \n",
    "  \n",
    "        "
   ]
  },
  {
   "cell_type": "code",
   "execution_count": 5,
   "metadata": {},
   "outputs": [],
   "source": [
    "def isSimilar(text, tf_idf, sims, dictionary, file_docs):\n",
    "    file2_docs = []\n",
    "    \n",
    "    tokens = sent_tokenize(text)\n",
    "    \n",
    "    for line in tokens:\n",
    "        file2_docs.append(line)\n",
    "        \n",
    "    for line in file2_docs:\n",
    "        query_doc = [w.lower() for w in word_tokenize(line)]\n",
    "        query_doc_bow = dictionary.doc2bow(query_doc)\n",
    "    query_doc_tf_idf = tf_idf[query_doc_bow]\n",
    "    similarityList = [i>=0.5 for i in sims[query_doc_tf_idf]]\n",
    "    if any(similarityList):\n",
    "        return True\n",
    "    return False"
   ]
  },
  {
   "cell_type": "code",
   "execution_count": 6,
   "metadata": {},
   "outputs": [],
   "source": [
    "def get_text_from_html(html_page):\n",
    "    soup = BeautifulSoup(html_page, 'html.parser')\n",
    "    text = soup.find_all(text=True)\n",
    "    output = ''\n",
    "    blacklist = [\n",
    "        '[document]',\n",
    "        'noscript',\n",
    "        'header',\n",
    "        'html',\n",
    "        'meta',\n",
    "        'head', \n",
    "        'input',\n",
    "        'script',\n",
    "        # there may be more elements you don't want, such as \"style\", etc.\n",
    "    ]\n",
    "\n",
    "    for t in text:\n",
    "        if t.parent.name not in blacklist:\n",
    "            output += '{} '.format(t)\n",
    "\n",
    "    return (output)"
   ]
  },
  {
   "cell_type": "code",
   "execution_count": 7,
   "metadata": {},
   "outputs": [],
   "source": [
    "def get_urls(tf_idf, sims, dictionary, file_docs):\n",
    "    url_list = []\n",
    "    file_name = \"https://commoncrawl.s3.amazonaws.com/crawl-data/CC-MAIN-2020-16/segments/1585370490497.6/warc/CC-MAIN-20200328074047-20200328104047-00000.warc.gz\"\n",
    "    stream = None\n",
    "\n",
    "    if file_name.startswith(\"http://\") or file_name.startswith(\"https://\"):\n",
    "        stream = requests.get(file_name, stream=True).raw\n",
    "    else:\n",
    "        stream = open(file_name, \"r+\")\n",
    "\n",
    "    for record in ArchiveIterator(stream):\n",
    "        if len(url_list) > 1000:\n",
    "            break\n",
    "        contents = (\n",
    "            record.content_stream()\n",
    "                .read()\n",
    "                .decode(\"utf-8\", \"replace\")\n",
    "        )\n",
    "        contents = get_text_from_html(contents)\n",
    "        try:\n",
    "            if contents and detect(contents) == 'en':\n",
    "                get_similarity = isSimilar(contents, tf_idf, sims, dictionary, file_docs)\n",
    "                if get_similarity:\n",
    "                    print(record.rec_headers.get_header('WARC-Target-URI'))\n",
    "                    url_list.append(record.rec_headers.get_header('WARC-Target-URI'))\n",
    "        except:\n",
    "            continue\n",
    "    return url_list"
   ]
  },
  {
   "cell_type": "code",
   "execution_count": 8,
   "metadata": {},
   "outputs": [],
   "source": [
    "tf_idf, sims, dictionary, file_docs = prepare_source_data()"
   ]
  },
  {
   "cell_type": "code",
   "execution_count": null,
   "metadata": {},
   "outputs": [
    {
     "name": "stdout",
     "output_type": "stream",
     "text": [
      "http://0tk.medicalogs.com/vod-detail-id-17144.html\n",
      "http://12ensemble.com/index.php?show--cid-6-id-9986.html\n",
      "http://190.evegrat.com/lizhi/yulelizhi.xml\n",
      "http://2ti.uwzqw.com.cn/art/2019/4/3/art_3308_2876422.html\n",
      "http://3141game.cn/vod/detail/id/10314.html\n",
      "http://32ndstreet-uscmagnet.schoolloop.com/cms/day?d=x&group_id=1254374193257&return_url=1582067869739&day_id=1582272000000\n",
      "http://39076.net/mip/2392035064.html\n",
      "http://3g.baotiantianwu.cn:9174/\n",
      "http://3g.hangfs.com.cn:9419/\n",
      "http://3g.lianyouyu.cn:9164/\n",
      "http://3g.yinfeiyan.cn:9424/\n",
      "http://48a.uniquedesignsource.com/\n",
      "http://4wayschurch.wixsite.com/signup/lookingin\n",
      "http://545013.cn/t08/78781.html\n",
      "http://7szl.com/index.php/vod/type/id/28.html\n",
      "http://82perfume.co.kr/board/board.html?code=multi4636&page=1&type=i&branduid=656\n",
      "http://900.su/?p=23325\n",
      "http://906.ktoidlff.live/\n",
      "http://9zfun.com/index.php/vod/detail/id/63.html\n",
      "http://acs.stev.net/\n",
      "http://agcmagazine.com/7j6u5c/index.php/product/3904\n",
      "http://agua.unorte.edu.uy/2018/02/\n",
      "http://aircommander1.com/heating-furnace-repair-hvac-plano/\n",
      "http://ajaymehandi.in.net/index.php/8mo2tysm1/yje4iqd30dfp1grxu7g8mryvbiul5vz1r04e\n",
      "http://ajaymehandi.in.net/index.php/y52v\n",
      "http://ak0ok.com/shop/gift-bags/gift-bag-croc-l/\n",
      "http://alchangift.com/new/main/TodayList.php\n",
      "http://alidoc.cern.ch/AliPhysics/vAN-20180717/_ali_analysis_task_gamma_conv_v1_8cxx.html\n",
      "http://allceus.com/member/cart/index/product/id/969/c/\n",
      "http://allpodcastsmatter.com/tag/pocast/\n",
      "http://alphapizzeriasd.com/\n",
      "http://amazinggracehomecare.org/caregiver-corner/\n",
      "http://ampel-nord.ru/tag/obrabotka-po-goloj-loze/\n",
      "http://anastasiapirvu.com/portfolio/transnistria/\n",
      "http://ancientworldonline.blogspot.com/2012/06/open-access-journal-nearco-historia.html\n",
      "http://aneczek-mamaart.blogspot.com/2011_03_21_archive.html?widgetType=BlogArchive&widgetId=BlogArchive1&action=toggle&dir=open&toggle=DAILY-1304319600000&toggleopen=DAILY-1300690800000\n",
      "http://aneczek-mamaart.blogspot.com/2011_06_13_archive.html?widgetType=BlogArchive&widgetId=BlogArchive1&action=toggle&dir=open&toggle=DAILY-1300086000000&toggleopen=DAILY-1307948400000\n",
      "http://angryfrog.cn/Information/303/710\n",
      "http://animais.jcle.pt/p/PEQUINOIS+PEQUINES/\n",
      "http://aniwhy.nl/\n",
      "http://antiqa.net/forum/4-260-5\n",
      "http://antiqa.net/forum/4-90-2\n",
      "http://antisi.com/photo/class/?1.html\n",
      "http://apathyandexhaustion.com/2018/11/\n",
      "http://apologeticminds.com/2018/08/modern-day-denial/?replytocom=17535\n",
      "http://app.finance.ifeng.com/data/stock/stock_monthly3.php?code=sz300353\n",
      "http://apps.schoolsitelocator.com/?districtcode=10130\n",
      "http://ar-qualis.com/FR/index.awp?gnIDArticle=17&gsTitreArticle=Ev%C3%A8nements&AWPIDD06F950E=A603FAC2324F3AD1D9916563EC034916A3BA83AF\n",
      "http://architecture.arsfabrica.com/2016/11/redesign-prodejen-envy-kilpi-cr/\n",
      "http://arendazov.ru/islam-itlyashev-ne-pozovesh-84/\n",
      "http://arovana-kovka.ru/amateur/amateur-model-gabreille.html\n",
      "http://asianmain.com/\n",
      "http://astralwatches.co.il/watch/superocean-chronograph-ii-46-2/\n",
      "http://atousages.fr/temoignages/\n",
      "http://auto.sina.com.cn/news/2008-05-23/1603378407.shtml\n",
      "http://autocomplet.com/index.php?pag=7&id=214037&lang=1\n",
      "http://automobility.io/tag/nextev/\n",
      "http://autorevo.com.ua/car/Fiat-DucatoVan-2006-2.04x4/a18441/\n",
      "http://awesomeimaustin.com/letstalkbro/\n",
      "http://ayucia.com/news/9566061\n",
      "http://b8r.gavinbpugh.com/664307/364487.html\n",
      "http://backintown.jp/?z=255901\n",
      "http://bafeiyin.com/display/254445.html\n",
      "http://baldwinborough.org/278/Business-Recycling\n",
      "http://batik-s128.com/tag/hem-batik-untuk-rapat/\n",
      "http://bbib.aoly.pw/cheese-melting-point-chart.html\n",
      "http://bbs.fblife.com/?2052761\n",
      "http://bbs.g12e.com/forum-262-233/topic-1756191.html\n",
      "http://bbs.hsw.cn/read-htm-tid-20177661.html\n",
      "http://bbs.yhnkzq.com/index.php?m=space&a=reply&id=4011495934\n",
      "http://bbs.yhnkzq.com/index.php?m=space&c=fans&uid=52677\n",
      "http://bbs.yhnkzq.com/index.php?m=space&c=thread&uid=8416\n",
      "http://beleefscopus.nl/category/trainers/\n",
      "http://bergspektiven.at/get-psyched/?replytocom=1359\n",
      "http://bergspektiven.at/past-dolomites/?replytocom=2527\n",
      "http://bermudarungardenclub.org/year-books\n",
      "http://bhljx.jysmgs.com.cn/ddwsr/328154.html\n",
      "http://big5.cctv.com/gate/big5/tv.cctv.com/2020/03/25/VIDEjhTPQMHAsFw4JhaiqJ74200325.shtml\n",
      "http://big5.news.cn/gate/big5/m.xinhuanet.com/2018-09/07/c_129949106_3.htm\n",
      "http://bigskyjournal.com/artfulness-in-an-overnight-stay/\n",
      "http://bilim.akipress.org/ru/find:%D0%A7%D2%AF%D0%B9\n",
      "http://biosharp.cn/list_23.html\n",
      "http://bioskop55.online/inherit-viper-2020/\n",
      "http://biz.jlu.edu.cn/szygl/yxrc.htm\n",
      "http://bjfelix.com/2012/08/\n",
      "http://blancapaloma-k.com/wp/omiyamairi/\n",
      "http://blog.daum.net/_blog/BlogTypeView.do?blogid=0YfUM&articleno=30&_bloghome_menu=recenttext\n",
      "http://blog.daum.net/_blog/tagArticleList.do?blogid=04dwc&tagName=%EB%8C%80%EA%B0%84%EC%82%AC%EC%B6%A9\n",
      "http://blog.daum.net/_blog/tagArticleList.do?blogid=0CKk7&beforePage=1&maxSeq=17428574&minSeq=17428961&maxRegDt=20130801102454&minRegDt=20140824102945&tagName=%EB%8B%AD&tagOrder=T&navigationType=article&currentPage=10\n",
      "http://blog.daum.net/_blog/tagArticleList.do?blogid=0QAt0&tagName=%EC%86%A1%EC%96%B4%ED%9A%8C\n",
      "http://blog.dcview.com/photo.php?ac=VWtSNgxqUWMNaQ%253D%253D&i=VmhVOFA1BzcAYQI5\n",
      "http://blog.hivetracks.com/home/beeweek-in-brussels-why-americans-should-care\n"
     ]
    }
   ],
   "source": [
    "get_urls(tf_idf, sims, dictionary, file_docs)"
   ]
  },
  {
   "cell_type": "code",
   "execution_count": null,
   "metadata": {},
   "outputs": [],
   "source": []
  }
 ],
 "metadata": {
  "kernelspec": {
   "display_name": "Python 3",
   "language": "python",
   "name": "python3"
  },
  "language_info": {
   "codemirror_mode": {
    "name": "ipython",
    "version": 3
   },
   "file_extension": ".py",
   "mimetype": "text/x-python",
   "name": "python",
   "nbconvert_exporter": "python",
   "pygments_lexer": "ipython3",
   "version": "3.7.6"
  }
 },
 "nbformat": 4,
 "nbformat_minor": 4
}
